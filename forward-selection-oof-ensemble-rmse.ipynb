{
 "cells": [
  {
   "cell_type": "markdown",
   "metadata": {
    "papermill": {
     "duration": 0.008306,
     "end_time": "2020-08-18T18:42:49.777058",
     "exception": false,
     "start_time": "2020-08-18T18:42:49.768752",
     "status": "completed"
    },
    "tags": []
   },
   "source": [
    "# How To Ensemble OOF\n",
    "In this notebook, we learn how to use `forward selection` to ensemble OOF. First build lots of models using the same KFolds (i.e. use same `seed`). Next save all the oof files as `oof_XX.csv` and submission files as `sub_XX.csv` where the oof and submission share the same `XX` number. Then save them in a Kaggle dataset and run the code below.\n",
    "\n",
    "The ensemble begins with the model of highest oof AUC. Next each other model is added one by one to see which additional model increases ensemble AUC the most. The best additional model is kept and the process is repeated until the ensemble AUC doesn't increase."
   ]
  },
  {
   "cell_type": "code",
   "execution_count": 1,
   "metadata": {
    "_cell_guid": "b1076dfc-b9ad-4769-8c92-a6c4dae69d19",
    "_uuid": "8f2839f25d086af736a60e9eeb907d3b93b6e0e5",
    "execution": {
     "iopub.execute_input": "2020-08-18T18:42:49.809251Z",
     "iopub.status.busy": "2020-08-18T18:42:49.808479Z",
     "iopub.status.idle": "2020-08-18T18:42:51.021303Z",
     "shell.execute_reply": "2020-08-18T18:42:51.020404Z"
    },
    "papermill": {
     "duration": 1.225243,
     "end_time": "2020-08-18T18:42:51.021496",
     "exception": false,
     "start_time": "2020-08-18T18:42:49.796253",
     "status": "completed"
    },
    "tags": []
   },
   "outputs": [],
   "source": [
    "import pandas as pd, numpy as np, os\n",
    "from sklearn.metrics import mean_squared_error\n",
    "import matplotlib.pyplot as plt"
   ]
  },
  {
   "cell_type": "code",
   "execution_count": 2,
   "metadata": {},
   "outputs": [],
   "source": [
    "import pickle\n",
    "with open('pet/oof.pkl', 'rb') as web:\n",
    "    pkl = pickle.load(web)"
   ]
  },
  {
   "cell_type": "code",
   "execution_count": 48,
   "metadata": {
    "execution": {
     "iopub.execute_input": "2020-08-18T18:42:51.044872Z",
     "iopub.status.busy": "2020-08-18T18:42:51.043978Z",
     "iopub.status.idle": "2020-08-18T18:42:52.807034Z",
     "shell.execute_reply": "2020-08-18T18:42:52.806033Z"
    },
    "papermill": {
     "duration": 1.777005,
     "end_time": "2020-08-18T18:42:52.807224",
     "exception": false,
     "start_time": "2020-08-18T18:42:51.030219",
     "status": "completed"
    },
    "tags": []
   },
   "outputs": [
    {
     "name": "stdout",
     "output_type": "stream",
     "text": [
      "We have 12 oof files...\n",
      "\n",
      "['oof_df_cait.csv' 'oof_df_nfl1.csv' 'oof_df_nfl2.csv'\n",
      " 'oof_df_swin224crop.csv' 'oof_df_swin348crop.csv'\n",
      " 'oof_df_vitlsr348crop.csv' 'oof_lgbm_cait384.csv' 'oof_lgbm_nfl1.csv'\n",
      " 'oof_lgbm_nfl2.csv' 'oof_lgbm_vitlsr384.csv' 'oof_svr_nfl1.csv'\n",
      " 'oof_svr_nfl2.csv']\n"
     ]
    }
   ],
   "source": [
    "PATH = 'pet/'\n",
    "FILES = os.listdir(PATH)\n",
    "\n",
    "OOF = np.sort( [f for f in FILES if 'oof' in f] )\n",
    "OOF_CSV = [pd.read_csv(PATH+k).sort_values('Id') for k in OOF]\n",
    "\n",
    "print('We have %i oof files...'%len(OOF))\n",
    "print(); print(OOF)"
   ]
  },
  {
   "cell_type": "code",
   "execution_count": 49,
   "metadata": {},
   "outputs": [],
   "source": [
    "def get_score(y_true, y_pred):\n",
    "    score = mean_squared_error(y_true, y_pred, squared=False) # RMSE\n",
    "    return score"
   ]
  },
  {
   "cell_type": "code",
   "execution_count": 50,
   "metadata": {
    "execution": {
     "iopub.execute_input": "2020-08-18T18:42:52.833096Z",
     "iopub.status.busy": "2020-08-18T18:42:52.832236Z",
     "iopub.status.idle": "2020-08-18T18:42:52.870339Z",
     "shell.execute_reply": "2020-08-18T18:42:52.869542Z"
    },
    "papermill": {
     "duration": 0.056189,
     "end_time": "2020-08-18T18:42:52.870478",
     "exception": false,
     "start_time": "2020-08-18T18:42:52.814289",
     "status": "completed"
    },
    "tags": []
   },
   "outputs": [],
   "source": [
    "x = np.zeros(( len(OOF_CSV[0]),len(OOF) ))\n",
    "for k in range(len(OOF)):\n",
    "    x[:,k] = OOF_CSV[k].preds.values\n",
    "    \n",
    "TRUE = OOF_CSV[0].Pawpularity.values"
   ]
  },
  {
   "cell_type": "code",
   "execution_count": 51,
   "metadata": {
    "execution": {
     "iopub.execute_input": "2020-08-18T18:42:52.892075Z",
     "iopub.status.busy": "2020-08-18T18:42:52.891241Z",
     "iopub.status.idle": "2020-08-18T18:42:53.408803Z",
     "shell.execute_reply": "2020-08-18T18:42:53.409470Z"
    },
    "papermill": {
     "duration": 0.532698,
     "end_time": "2020-08-18T18:42:53.409697",
     "exception": false,
     "start_time": "2020-08-18T18:42:52.876999",
     "status": "completed"
    },
    "tags": []
   },
   "outputs": [
    {
     "name": "stdout",
     "output_type": "stream",
     "text": [
      "Model 0 has OOF RMSE = 17.8153\n",
      "Model 1 has OOF RMSE = 18.3068\n",
      "Model 2 has OOF RMSE = 18.2978\n",
      "Model 3 has OOF RMSE = 17.6729\n",
      "Model 4 has OOF RMSE = 17.7839\n",
      "Model 5 has OOF RMSE = 18.1383\n",
      "Model 6 has OOF RMSE = 17.7387\n",
      "Model 7 has OOF RMSE = 17.9953\n",
      "Model 8 has OOF RMSE = 17.9577\n",
      "Model 9 has OOF RMSE = 18.0675\n",
      "Model 10 has OOF RMSE = 18.3607\n",
      "Model 11 has OOF RMSE = 18.2314\n"
     ]
    }
   ],
   "source": [
    "all = []\n",
    "for k in range(x.shape[1]):\n",
    "    #print(OOF_CSV[0].Pawpularity)\n",
    "    #print(x[:,k])\n",
    "    auc = get_score(OOF_CSV[0].Pawpularity,x[:,k])\n",
    "    all.append(auc)\n",
    "    print('Model %i has OOF RMSE = %.4f'%(k,auc))\n",
    "    \n",
    "m = [np.argmax(all)]; w = []"
   ]
  },
  {
   "cell_type": "markdown",
   "metadata": {
    "papermill": {
     "duration": 0.006775,
     "end_time": "2020-08-18T18:42:53.425409",
     "exception": false,
     "start_time": "2020-08-18T18:42:53.418634",
     "status": "completed"
    },
    "tags": []
   },
   "source": [
    "# Build OOF Ensemble. Maximize CV Score"
   ]
  },
  {
   "cell_type": "code",
   "execution_count": 52,
   "metadata": {
    "execution": {
     "iopub.execute_input": "2020-08-18T18:42:53.460000Z",
     "iopub.status.busy": "2020-08-18T18:42:53.459171Z",
     "iopub.status.idle": "2020-08-18T18:44:38.394414Z",
     "shell.execute_reply": "2020-08-18T18:44:38.393538Z"
    },
    "papermill": {
     "duration": 104.962146,
     "end_time": "2020-08-18T18:44:38.394570",
     "exception": false,
     "start_time": "2020-08-18T18:42:53.432424",
     "status": "completed"
    },
    "tags": []
   },
   "outputs": [
    {
     "name": "stdout",
     "output_type": "stream",
     "text": [
      "Ensemble RMSE = 18.3607 by beginning with model 10\n",
      "\n",
      "Searching for best model to add... \n",
      "0 , 1 , 2 , 3 , 4 , 5 , 6 , 7 , 8 , 9 , 10 , 11 , \n",
      "Ensemble RMSE = 17.4921 after adding model 3 with weight 0.690. Increase of 0.8686\n",
      "\n",
      "Searching for best model to add... \n",
      "0 , 1 , 2 , 3 , 4 , 5 , 6 , 7 , 8 , 9 , 10 , 11 , \n",
      "Ensemble RMSE = 17.4018 after adding model 6 with weight 0.340. Increase of 0.0903\n",
      "\n",
      "Searching for best model to add... \n",
      "0 , 1 , 2 , 3 , 4 , 5 , 6 , 7 , 8 , 9 , 10 , 11 , \n",
      "Ensemble RMSE = 17.3777 after adding model 11 with weight 0.140. Increase of 0.0241\n",
      "\n",
      "Searching for best model to add... \n",
      "0 , 1 , 2 , 3 , 4 , 5 , 6 , 7 , 8 , 9 , 10 , 11 , \n",
      "Ensemble RMSE = 17.3579 after adding model 4 with weight 0.175. Increase of 0.0198\n",
      "\n",
      "Searching for best model to add... \n",
      "0 , 1 , 2 , 3 , 4 , 5 , 6 , 7 , 8 , 9 , 10 , 11 , \n",
      "Ensemble RMSE = 17.3495 after adding model 0 with weight 0.120. Increase of 0.0084\n",
      "\n",
      "Searching for best model to add... \n",
      "0 , 1 , 2 , 3 , 4 , 5 , 6 , 7 , 8 , 9 , 10 , 11 , \n",
      "Ensemble RMSE = 17.3449 after adding model 5 with weight 0.070. Increase of 0.0047\n",
      "\n",
      "Searching for best model to add... \n",
      "0 , 1 , 2 , 3 , 4 , 5 , 6 , 7 , 8 , 9 , 10 , 11 , \n",
      "No increase. Stopping.\n"
     ]
    }
   ],
   "source": [
    "old = np.max(all); \n",
    "\n",
    "RES = 200; \n",
    "PATIENCE = 10; \n",
    "TOL = 0.0003\n",
    "DUPLICATES = False\n",
    "\n",
    "print('Ensemble RMSE = %.4f by beginning with model %i'%(old,m[0]))\n",
    "print()\n",
    "\n",
    "for kk in range(len(OOF)):\n",
    "    \n",
    "    # BUILD CURRENT ENSEMBLE\n",
    "    md = x[:,m[0]]\n",
    "    for i,k in enumerate(m[1:]):\n",
    "        md = w[i]*x[:,k] + (1-w[i])*md\n",
    "        \n",
    "    # FIND MODEL TO ADD\n",
    "    mx = 100; mx_k = 0; mx_w = 0\n",
    "    print('Searching for best model to add... ')\n",
    "    \n",
    "    # TRY ADDING EACH MODEL\n",
    "    for k in range(x.shape[1]):\n",
    "        print(k,', ',end='')\n",
    "        if not DUPLICATES and (k in m): continue\n",
    "            \n",
    "        # EVALUATE ADDING MODEL K WITH WEIGHTS W\n",
    "        bst_j = 0; bst = 100; ct = 0\n",
    "        for j in range(RES):\n",
    "            tmp = j/RES*x[:,k] + (1-j/RES)*md\n",
    "            auc = get_score(TRUE,tmp)\n",
    "            if auc<bst:\n",
    "                bst = auc\n",
    "                bst_j = j/RES\n",
    "            else: ct += 1\n",
    "            if ct>PATIENCE: break\n",
    "        if bst<mx:\n",
    "            mx = bst\n",
    "            mx_k = k\n",
    "            mx_w = bst_j\n",
    "            \n",
    "    # STOP IF INCREASE IS LESS THAN TOL\n",
    "    inc = old-mx\n",
    "    if inc<=TOL: \n",
    "        print(); print('No increase. Stopping.')\n",
    "        break\n",
    "        \n",
    "    # DISPLAY RESULTS\n",
    "    print(); #print(kk,mx,mx_k,mx_w,'%.5f'%inc)\n",
    "    print('Ensemble RMSE = %.4f after adding model %i with weight %.3f. Increase of %.4f'%(mx,mx_k,mx_w,inc))\n",
    "    print()\n",
    "    \n",
    "    old = mx; m.append(mx_k); w.append(mx_w)"
   ]
  },
  {
   "cell_type": "code",
   "execution_count": 53,
   "metadata": {
    "execution": {
     "iopub.execute_input": "2020-08-18T18:44:38.441473Z",
     "iopub.status.busy": "2020-08-18T18:44:38.440644Z",
     "iopub.status.idle": "2020-08-18T18:44:38.444502Z",
     "shell.execute_reply": "2020-08-18T18:44:38.445151Z"
    },
    "papermill": {
     "duration": 0.030695,
     "end_time": "2020-08-18T18:44:38.445348",
     "exception": false,
     "start_time": "2020-08-18T18:44:38.414653",
     "status": "completed"
    },
    "tags": []
   },
   "outputs": [
    {
     "name": "stdout",
     "output_type": "stream",
     "text": [
      "We are using models [10, 3, 6, 11, 4, 0, 5]\n",
      "with weights [0.69, 0.34, 0.14, 0.175, 0.12, 0.07]\n",
      "and achieve ensemble RMSE = 17.3449\n"
     ]
    }
   ],
   "source": [
    "print('We are using models',m)\n",
    "print('with weights',w)\n",
    "print('and achieve ensemble RMSE = %.4f'%old)"
   ]
  },
  {
   "cell_type": "code",
   "execution_count": 54,
   "metadata": {
    "execution": {
     "iopub.execute_input": "2020-08-18T18:44:38.494492Z",
     "iopub.status.busy": "2020-08-18T18:44:38.493604Z",
     "iopub.status.idle": "2020-08-18T18:44:38.935400Z",
     "shell.execute_reply": "2020-08-18T18:44:38.934738Z"
    },
    "papermill": {
     "duration": 0.46954,
     "end_time": "2020-08-18T18:44:38.935548",
     "exception": false,
     "start_time": "2020-08-18T18:44:38.466008",
     "status": "completed"
    },
    "tags": []
   },
   "outputs": [
    {
     "name": "stdout",
     "output_type": "stream",
     "text": [
      "[30.2983017  44.48873901 36.95105743 ... 24.76463699 40.09108353\n",
      " 50.179245  ]\n",
      "[38.074299   42.31146884 40.48928398 ... 25.0719699  45.36662582\n",
      " 43.38467355]\n",
      "[40.35985456 44.43308292 40.7767056  ... 26.5153084  46.15165873\n",
      " 42.70997198]\n",
      "[38.66189275 45.75354888 40.74251218 ... 27.01512758 45.18490473\n",
      " 43.55896823]\n",
      "[39.66178662 44.67832248 39.77443717 ... 26.75404306 44.1343439\n",
      " 44.21168004]\n",
      "[39.69323783 44.60145198 39.69311903 ... 27.13698261 44.3984404\n",
      " 43.63532364]\n",
      "[39.45708794 44.21734644 40.29210924 ... 26.86669829 44.34672178\n",
      " 43.36720098]\n"
     ]
    },
    {
     "data": {
      "image/png": "[encoded data removed]",
      "text/plain": [
       "<Figure size 432x288 with 1 Axes>"
      ]
     },
     "metadata": {
      "needs_background": "light"
     },
     "output_type": "display_data"
    }
   ],
   "source": [
    "md = x[:,m[0]]\n",
    "print(md)\n",
    "for i,k in enumerate(m[1:]):\n",
    "    md = w[i]*x[:,k] + (1-w[i])*md\n",
    "    print(md)\n",
    "plt.hist(md,bins=100)\n",
    "plt.title('Ensemble OOF predictions')\n",
    "plt.show()"
   ]
  },
  {
   "cell_type": "code",
   "execution_count": 8,
   "metadata": {
    "execution": {
     "iopub.execute_input": "2020-08-18T18:44:38.983037Z",
     "iopub.status.busy": "2020-08-18T18:44:38.982260Z",
     "iopub.status.idle": "2020-08-18T18:44:39.267461Z",
     "shell.execute_reply": "2020-08-18T18:44:39.266499Z"
    },
    "papermill": {
     "duration": 0.311663,
     "end_time": "2020-08-18T18:44:39.267620",
     "exception": false,
     "start_time": "2020-08-18T18:44:38.955957",
     "status": "completed"
    },
    "tags": []
   },
   "outputs": [
    {
     "name": "stderr",
     "output_type": "stream",
     "text": [
      "/opt/conda/lib/python3.7/site-packages/ipykernel_launcher.py:2: UserWarning: Pandas doesn't allow columns to be created via a new attribute name - see https://pandas.pydata.org/pandas-docs/stable/indexing.html#attribute-access\n",
      "  \n"
     ]
    }
   ],
   "source": [
    "df = OOF_CSV[0].copy()\n",
    "df.pred = md\n",
    "df.to_csv('ensemble_oof.csv',index=False)"
   ]
  },
  {
   "cell_type": "markdown",
   "metadata": {
    "papermill": {
     "duration": 0.020021,
     "end_time": "2020-08-18T18:44:39.308076",
     "exception": false,
     "start_time": "2020-08-18T18:44:39.288055",
     "status": "completed"
    },
    "tags": []
   },
   "source": [
    "# Load SUB Files"
   ]
  },
  {
   "cell_type": "code",
   "execution_count": 9,
   "metadata": {
    "execution": {
     "iopub.execute_input": "2020-08-18T18:44:39.359348Z",
     "iopub.status.busy": "2020-08-18T18:44:39.358536Z",
     "iopub.status.idle": "2020-08-18T18:44:40.002409Z",
     "shell.execute_reply": "2020-08-18T18:44:40.001126Z"
    },
    "papermill": {
     "duration": 0.673444,
     "end_time": "2020-08-18T18:44:40.002618",
     "exception": false,
     "start_time": "2020-08-18T18:44:39.329174",
     "status": "completed"
    },
    "tags": []
   },
   "outputs": [
    {
     "name": "stdout",
     "output_type": "stream",
     "text": [
      "We have 7 submission files...\n",
      "\n",
      "['eca_nfnetl0_sub_01.csv' 'eff_b0_ns_sub_06.csv' 'eff_b0_sub_05.csv'\n",
      " 'eff_b3_ns_sub_07.csv' 'eff_b3_ns_w15_sub_02.csv'\n",
      " 'eff_b3_ns_w9_sub_04.csv' 'eff_v2_s_sub_03.csv']\n"
     ]
    }
   ],
   "source": [
    "SUB = np.sort( [f for f in FILES if 'sub' in f] )\n",
    "SUB_CSV = [pd.read_csv(PATH+k) for k in SUB]\n",
    "\n",
    "print('We have %i submission files...'%len(SUB))\n",
    "print(); print(SUB)"
   ]
  },
  {
   "cell_type": "code",
   "execution_count": 10,
   "metadata": {
    "execution": {
     "iopub.execute_input": "2020-08-18T18:44:40.056096Z",
     "iopub.status.busy": "2020-08-18T18:44:40.055043Z",
     "iopub.status.idle": "2020-08-18T18:44:40.058527Z",
     "shell.execute_reply": "2020-08-18T18:44:40.057596Z"
    },
    "papermill": {
     "duration": 0.03416,
     "end_time": "2020-08-18T18:44:40.058720",
     "exception": false,
     "start_time": "2020-08-18T18:44:40.024560",
     "status": "completed"
    },
    "tags": []
   },
   "outputs": [],
   "source": [
    "# VERFIY THAT SUBMISSION FILES MATCH OOF FILES\n",
    "a = np.array( [ int( x.split('_')[-1].split('.')[0]) for x in SUB ] )\n",
    "b = np.array( [ int( x.split('_')[-1].split('.')[0]) for x in OOF ] )\n",
    "if len(a)!=len(b):\n",
    "    print('ERROR submission files dont match oof files')\n",
    "else:\n",
    "    for k in range(len(a)):\n",
    "        if a[k]!=b[k]: print('ERROR submission files dont match oof files')"
   ]
  },
  {
   "cell_type": "code",
   "execution_count": 11,
   "metadata": {
    "execution": {
     "iopub.execute_input": "2020-08-18T18:44:40.109355Z",
     "iopub.status.busy": "2020-08-18T18:44:40.108124Z",
     "iopub.status.idle": "2020-08-18T18:44:40.125188Z",
     "shell.execute_reply": "2020-08-18T18:44:40.124473Z"
    },
    "papermill": {
     "duration": 0.045533,
     "end_time": "2020-08-18T18:44:40.125346",
     "exception": false,
     "start_time": "2020-08-18T18:44:40.079813",
     "status": "completed"
    },
    "tags": []
   },
   "outputs": [],
   "source": [
    "y = np.zeros(( len(SUB_CSV[0]),len(SUB) ))\n",
    "for k in range(len(SUB)):\n",
    "    y[:,k] = SUB_CSV[k].target.values"
   ]
  },
  {
   "cell_type": "markdown",
   "metadata": {
    "papermill": {
     "duration": 0.020245,
     "end_time": "2020-08-18T18:44:40.166408",
     "exception": false,
     "start_time": "2020-08-18T18:44:40.146163",
     "status": "completed"
    },
    "tags": []
   },
   "source": [
    "# Build SUB Ensemble"
   ]
  },
  {
   "cell_type": "code",
   "execution_count": 12,
   "metadata": {
    "execution": {
     "iopub.execute_input": "2020-08-18T18:44:40.216774Z",
     "iopub.status.busy": "2020-08-18T18:44:40.215952Z",
     "iopub.status.idle": "2020-08-18T18:44:40.682433Z",
     "shell.execute_reply": "2020-08-18T18:44:40.681761Z"
    },
    "papermill": {
     "duration": 0.495021,
     "end_time": "2020-08-18T18:44:40.682583",
     "exception": false,
     "start_time": "2020-08-18T18:44:40.187562",
     "status": "completed"
    },
    "tags": []
   },
   "outputs": [
    {
     "data": {
      "image/png": "[encoded data removed]",
      "text/plain": [
       "<Figure size 432x288 with 1 Axes>"
      ]
     },
     "metadata": {
      "needs_background": "light"
     },
     "output_type": "display_data"
    }
   ],
   "source": [
    "md2 = y[:,m[0]]\n",
    "for i,k in enumerate(m[1:]):\n",
    "    md2 = w[i]*y[:,k] + (1-w[i])*md2\n",
    "plt.hist(md2,bins=100)\n",
    "plt.show()"
   ]
  },
  {
   "cell_type": "code",
   "execution_count": 13,
   "metadata": {
    "execution": {
     "iopub.execute_input": "2020-08-18T18:44:40.734138Z",
     "iopub.status.busy": "2020-08-18T18:44:40.733251Z",
     "iopub.status.idle": "2020-08-18T18:44:40.790929Z",
     "shell.execute_reply": "2020-08-18T18:44:40.791648Z"
    },
    "papermill": {
     "duration": 0.087869,
     "end_time": "2020-08-18T18:44:40.791867",
     "exception": false,
     "start_time": "2020-08-18T18:44:40.703998",
     "status": "completed"
    },
    "tags": []
   },
   "outputs": [],
   "source": [
    "df = SUB_CSV[0].copy()\n",
    "df.target = md2\n",
    "df.to_csv('ensemble_subv2.csv',index=False)"
   ]
  },
  {
   "cell_type": "code",
   "execution_count": null,
   "metadata": {},
   "outputs": [],
   "source": []
  }
 ],
 "metadata": {
  "environment": {
   "name": "pytorch-gpu.1-9.m75",
   "type": "gcloud",
   "uri": "gcr.io/deeplearning-platform-release/pytorch-gpu.1-9:m75"
  },
  "kernelspec": {
   "display_name": "Python 3 (ipykernel)",
   "language": "python",
   "name": "python3"
  },
  "language_info": {
   "codemirror_mode": {
    "name": "ipython",
    "version": 3
   },
   "file_extension": ".py",
   "mimetype": "text/x-python",
   "name": "python",
   "nbconvert_exporter": "python",
   "pygments_lexer": "ipython3",
   "version": "3.8.12"
  },
  "papermill": {
   "duration": 116.576323,
   "end_time": "2020-08-18T18:44:40.923814",
   "environment_variables": {},
   "exception": null,
   "input_path": "__notebook__.ipynb",
   "output_path": "__notebook__.ipynb",
   "parameters": {},
   "start_time": "2020-08-18T18:42:44.347491",
   "version": "2.1.0"
  }
 },
 "nbformat": 4,
 "nbformat_minor": 4
}
